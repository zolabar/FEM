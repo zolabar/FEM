{
 "cells": [
  {
   "cell_type": "markdown",
   "metadata": {
    "slideshow": {
     "slide_type": "slide"
    }
   },
   "source": [
    "# Vergleichsspannung\n",
    "\n",
    " $$\\mathbf{u}(x_1,x_2,x_3)= \\begin{pmatrix}u_1(x_1,x_2,x_3)\\\\u_2(x_1,x_2,x_3)\\\\u_3(x_1,x_2,x_3) \\end{pmatrix}$$\n",
    " \n",
    " $$\\mathbf{E} = \\frac{1}{2}\\left(\\nabla \\mathbf{u}+(\\nabla \\mathbf{u})^T\\right)$$\n",
    " \n",
    " $$\\mathbf{\\Sigma}  =2\\mu \\mathbf{E}+\\lambda \\text{tr}(\\mathbf{E})\\mathbf{I} $$"
   ]
  },
  {
   "cell_type": "markdown",
   "metadata": {},
   "source": [
    "S. 182 in [Issler et. al, 2003]."
   ]
  },
  {
   "cell_type": "markdown",
   "metadata": {
    "slideshow": {
     "slide_type": "slide"
    }
   },
   "source": [
    "$$\\mathbf{\\Sigma}  =\\begin{pmatrix}\\sigma_{11}&&\\sigma_{12}&&\\sigma_{13}\\\\\n",
    "                                   \\sigma_{21}&&\\sigma_{22}&&\\sigma_{23}\\\\\n",
    "                                   \\sigma_{31}&&\\sigma_{31}&&\\sigma_{33} \n",
    "                                 \\end{pmatrix} $$"
   ]
  },
  {
   "cell_type": "markdown",
   "metadata": {
    "slideshow": {
     "slide_type": "slide"
    }
   },
   "source": [
    "Wie bekommxt man an einer Stelle $\\mathbf{x}\\in\\mathbb{R}^3$ einen Spannungswert, den man farbcodieren und mit anderen Spannungswerten (z.B. Streckgrenze) vergleichen kann? Z.B. durch die von Mises Vergleichsspannung:\n",
    "\n",
    "$$\\sigma_{v}=\\frac{1}{\\sqrt{2}}\\sqrt{(\\sigma_{11}-\\sigma_{22})^2+(\\sigma_{22}-\\sigma_{33})^2+(\\sigma_{33}-\\sigma_{11})^2+6\\cdot(\\sigma_{12}^2+\\sigma_{23}^2+\\sigma_{31}^2)}$$\n",
    "\n",
    "Sind die Hauptspannungen $\\sigma_{I},\\sigma_{II},\\sigma_{III}$ bekannt, dann ist die von Mises Vergleichsspannung:\n",
    "\n",
    "$$\\sigma_{v}=\\frac{1}{\\sqrt{2}}\\sqrt{(\\sigma_{I}-\\sigma_{II})^2+(\\sigma_{II}-\\sigma_{III})^2+(\\sigma_{III}-\\sigma_{I})^2}$$.\n",
    "\n",
    "Die die Hauptspannungen $\\sigma_{I},\\sigma_{II},\\sigma_{III}$ sind die Eigenwerte der Spannungsmatrix."
   ]
  },
  {
   "cell_type": "markdown",
   "metadata": {},
   "source": [
    "Im Folgenden ein Beispiel. Auf der Seite [sympy live](https://live.sympy.org/) können Sie die Eigenwerte von Matrizen symbolsich berechnen."
   ]
  },
  {
   "cell_type": "code",
   "execution_count": 1,
   "metadata": {},
   "outputs": [],
   "source": [
    "from sympy import *\n",
    "import numpy as np\n",
    "from numpy import sqrt"
   ]
  },
  {
   "cell_type": "code",
   "execution_count": 2,
   "metadata": {},
   "outputs": [
    {
     "data": {
      "text/latex": [
       "$\\displaystyle \\left[\\begin{matrix}20 & 0 & 0\\\\0 & 30 & 40\\\\0 & 40 & -30\\end{matrix}\\right]$"
      ],
      "text/plain": [
       "Matrix([\n",
       "[20,  0,   0],\n",
       "[ 0, 30,  40],\n",
       "[ 0, 40, -30]])"
      ]
     },
     "execution_count": 2,
     "metadata": {},
     "output_type": "execute_result"
    }
   ],
   "source": [
    "Sigma=Matrix(([20,0,0],[0,30,40],[0,40,-30]))\n",
    "Sigma"
   ]
  },
  {
   "cell_type": "code",
   "execution_count": 3,
   "metadata": {},
   "outputs": [
    {
     "data": {
      "text/plain": [
       "{50: 1, 20: 1, -50: 1}"
      ]
     },
     "execution_count": 3,
     "metadata": {},
     "output_type": "execute_result"
    }
   ],
   "source": [
    "Sigma.eigenvals()"
   ]
  },
  {
   "cell_type": "code",
   "execution_count": 4,
   "metadata": {},
   "outputs": [],
   "source": [
    "sigmaI=20\n",
    "sigmaII=-50 \n",
    "sigmaIII=50 "
   ]
  },
  {
   "cell_type": "code",
   "execution_count": 5,
   "metadata": {},
   "outputs": [],
   "source": [
    "summe=(sigmaI-sigmaII)**2+(sigmaII-sigmaIII)**2+(sigmaIII-sigmaI)**2\n",
    "sigma_v=(1/np.sqrt(2.))*np.sqrt(summe)"
   ]
  },
  {
   "cell_type": "code",
   "execution_count": 6,
   "metadata": {},
   "outputs": [
    {
     "data": {
      "text/plain": [
       "88.88194417315589"
      ]
     },
     "execution_count": 6,
     "metadata": {},
     "output_type": "execute_result"
    }
   ],
   "source": [
    "sigma_v"
   ]
  },
  {
   "cell_type": "code",
   "execution_count": 7,
   "metadata": {},
   "outputs": [],
   "source": [
    "Spannung=Matrix(([-30,0,-60  ],[0,30,-60],[-60,-60,0]))"
   ]
  },
  {
   "cell_type": "code",
   "execution_count": 8,
   "metadata": {},
   "outputs": [
    {
     "data": {
      "text/latex": [
       "$\\displaystyle \\left[\\begin{matrix}-30 & 0 & -60\\\\0 & 30 & -60\\\\-60 & -60 & 0\\end{matrix}\\right]$"
      ],
      "text/plain": [
       "Matrix([\n",
       "[-30,   0, -60],\n",
       "[  0,  30, -60],\n",
       "[-60, -60,   0]])"
      ]
     },
     "execution_count": 8,
     "metadata": {},
     "output_type": "execute_result"
    }
   ],
   "source": [
    "Spannung"
   ]
  },
  {
   "cell_type": "code",
   "execution_count": 9,
   "metadata": {},
   "outputs": [
    {
     "data": {
      "text/plain": [
       "{-90: 1, 90: 1, 0: 1}"
      ]
     },
     "execution_count": 9,
     "metadata": {},
     "output_type": "execute_result"
    }
   ],
   "source": [
    "Spannung.eigenvals()"
   ]
  },
  {
   "cell_type": "code",
   "execution_count": 10,
   "metadata": {},
   "outputs": [],
   "source": [
    "sigmaI=-90\n",
    "sigmaII=0\n",
    "sigmaIII=90"
   ]
  },
  {
   "cell_type": "code",
   "execution_count": 11,
   "metadata": {},
   "outputs": [
    {
     "data": {
      "text/plain": [
       "155.88457268119893"
      ]
     },
     "execution_count": 11,
     "metadata": {},
     "output_type": "execute_result"
    }
   ],
   "source": [
    "summe=(sigmaI-sigmaII)**2+(sigmaII-sigmaIII)**2+(sigmaIII-sigmaI)**2\n",
    "sigma_v=(1/np.sqrt(2.))*np.sqrt(summe)\n",
    "sigma_v"
   ]
  },
  {
   "cell_type": "code",
   "execution_count": 12,
   "metadata": {},
   "outputs": [
    {
     "data": {
      "text/latex": [
       "$\\displaystyle \\left[\\begin{matrix}20 & 40 & -20\\\\40 & 20 & -20\\\\-20 & -20 & -10\\end{matrix}\\right]$"
      ],
      "text/plain": [
       "Matrix([\n",
       "[ 20,  40, -20],\n",
       "[ 40,  20, -20],\n",
       "[-20, -20, -10]])"
      ]
     },
     "execution_count": 12,
     "metadata": {},
     "output_type": "execute_result"
    }
   ],
   "source": [
    "Spannung2=Matrix(([20,40,-20  ],[40,20,-20],[-20,-20,-10]))\n",
    "Spannung2"
   ]
  },
  {
   "cell_type": "code",
   "execution_count": 13,
   "metadata": {},
   "outputs": [
    {
     "data": {
      "text/plain": [
       "{70: 1, -20: 2}"
      ]
     },
     "execution_count": 13,
     "metadata": {},
     "output_type": "execute_result"
    }
   ],
   "source": [
    "Spannung2.eigenvals()"
   ]
  },
  {
   "cell_type": "code",
   "execution_count": 14,
   "metadata": {},
   "outputs": [
    {
     "data": {
      "text/plain": [
       "90.0"
      ]
     },
     "execution_count": 14,
     "metadata": {},
     "output_type": "execute_result"
    }
   ],
   "source": [
    "sigmaI=70\n",
    "sigmaII=-20\n",
    "sigmaIII=-20\n",
    "\n",
    "summe=(sigmaI-sigmaII)**2+(sigmaII-sigmaIII)**2+(sigmaIII-sigmaI)**2\n",
    "sigma_v=(1/np.sqrt(2.))*np.sqrt(summe)\n",
    "sigma_v"
   ]
  },
  {
   "cell_type": "code",
   "execution_count": 15,
   "metadata": {},
   "outputs": [
    {
     "data": {
      "text/latex": [
       "$\\displaystyle \\left[\\begin{matrix}2 & 5 & 3\\\\5 & 1 & 4\\\\3 & 4 & 3\\end{matrix}\\right]$"
      ],
      "text/plain": [
       "Matrix([\n",
       "[2, 5, 3],\n",
       "[5, 1, 4],\n",
       "[3, 4, 3]])"
      ]
     },
     "execution_count": 15,
     "metadata": {},
     "output_type": "execute_result"
    }
   ],
   "source": [
    "Spannung3=Matrix(([2,5,3  ],[5,1,4],[3,4,3]))\n",
    "\n",
    "Spannung3"
   ]
  },
  {
   "cell_type": "code",
   "execution_count": 16,
   "metadata": {},
   "outputs": [
    {
     "data": {
      "text/plain": [
       "{10: 1, -2 - sqrt(3): 1, -2 + sqrt(3): 1}"
      ]
     },
     "execution_count": 16,
     "metadata": {},
     "output_type": "execute_result"
    }
   ],
   "source": [
    "Spannung3.eigenvals()"
   ]
  },
  {
   "cell_type": "code",
   "execution_count": 17,
   "metadata": {},
   "outputs": [
    {
     "data": {
      "text/plain": [
       "12.369316876852979"
      ]
     },
     "execution_count": 17,
     "metadata": {},
     "output_type": "execute_result"
    }
   ],
   "source": [
    "sigmaI=10\n",
    "sigmaII=-2 - np.sqrt(3)\n",
    "sigmaIII= -2 + np.sqrt(3)\n",
    "\n",
    "summe=(sigmaI-sigmaII)**2+(sigmaII-sigmaIII)**2+(sigmaIII-sigmaI)**2\n",
    "sigma_v=(1/np.sqrt(2.))*np.sqrt(summe)\n",
    "sigma_v"
   ]
  },
  {
   "cell_type": "code",
   "execution_count": null,
   "metadata": {},
   "outputs": [],
   "source": []
  }
 ],
 "metadata": {
  "celltoolbar": "Slideshow",
  "kernelspec": {
   "display_name": "Python 3",
   "language": "python",
   "name": "python3"
  },
  "language_info": {
   "codemirror_mode": {
    "name": "ipython",
    "version": 3
   },
   "file_extension": ".py",
   "mimetype": "text/x-python",
   "name": "python",
   "nbconvert_exporter": "python",
   "pygments_lexer": "ipython3",
   "version": "3.8.3"
  }
 },
 "nbformat": 4,
 "nbformat_minor": 2
}
